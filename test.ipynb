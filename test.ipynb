{
  "nbformat": 4,
  "nbformat_minor": 0,
  "metadata": {
    "colab": {
      "name": "test.ipynb",
      "provenance": [],
      "collapsed_sections": []
    },
    "kernelspec": {
      "name": "python3",
      "display_name": "Python 3"
    },
    "language_info": {
      "name": "python"
    },
    "accelerator": "GPU"
  },
  "cells": [
    {
      "cell_type": "code",
      "source": [
        "import numpy as np\n",
        "import matplotlib.pyplot as plt \n",
        "import tensorflow as tf\n",
        "import os\n",
        "import cv2"
      ],
      "metadata": {
        "id": "Hs9R48jXCy89"
      },
      "execution_count": 1,
      "outputs": []
    },
    {
      "cell_type": "code",
      "source": [
        "from google.colab import drive\n",
        "drive.mount('/content/drive')"
      ],
      "metadata": {
        "colab": {
          "base_uri": "https://localhost:8080/"
        },
        "id": "iE3dUTOCUHUr",
        "outputId": "311f3ff5-011f-4372-ffe3-e32e51094361"
      },
      "execution_count": 9,
      "outputs": [
        {
          "output_type": "stream",
          "name": "stdout",
          "text": [
            "Mounted at /content/drive\n"
          ]
        }
      ]
    },
    {
      "cell_type": "code",
      "execution_count": 128,
      "metadata": {
        "id": "_xsubriaCgWe"
      },
      "outputs": [],
      "source": [
        "def and_ensemble_fnc(models_output_list):\n",
        "  output = (models_output_list[0] * 0) + 1\n",
        "  for model_output in models_output_list:\n",
        "    output *= model_output\n",
        "  return output"
      ]
    },
    {
      "cell_type": "code",
      "source": [
        "def majority_voting_ensemble_fnc(models_output_list):\n",
        "  total_models = len(models_output_list)\n",
        "\n",
        "  output = np.zeros((*models_output_list[0].shape))\n",
        "\n",
        "  for model_output in models_output_list:\n",
        "    model_output = (model_output>0.5).astype(np.int32)\n",
        "    output += model_output\n",
        "  \n",
        "  output = ( output > (total_models//2) ).astype(np.int32)\n",
        "  return output"
      ],
      "metadata": {
        "id": "ZpHBV-TP4cR5"
      },
      "execution_count": 129,
      "outputs": []
    },
    {
      "cell_type": "code",
      "source": [
        "from keras.models import load_model"
      ],
      "metadata": {
        "id": "JclwPEWcZwkH"
      },
      "execution_count": 130,
      "outputs": []
    },
    {
      "cell_type": "code",
      "source": [
        "def preprocess_image(image_path):\n",
        "  # load image\n",
        "  image = cv2.imread(image_path)\n",
        "\n",
        "  # convert to array\n",
        "  blob = cv2.dnn.blobFromImage(image, 1.0/255, (320, 320), (0, 0, 0), swapRB=True, crop=False)\n",
        "\n",
        "  return image,blob"
      ],
      "metadata": {
        "id": "XIuAyw_Ux-OO"
      },
      "execution_count": 5,
      "outputs": []
    },
    {
      "cell_type": "code",
      "source": [
        "def load_saved_model(model_path):\n",
        "  model = model_path\n",
        "  \n",
        "  # load model\n",
        "  model = load_model(model, compile=False)\n",
        "  \n",
        "  return model"
      ],
      "metadata": {
        "id": "dxu5csO0yRWO"
      },
      "execution_count": 6,
      "outputs": []
    },
    {
      "cell_type": "code",
      "source": [
        "def get_mask(d1):\n",
        "  pred = np.array(d1[:,0,:,:])[0]\n",
        "  \n",
        "  # normalize\n",
        "  ma = np.max(pred)\n",
        "  mi = np.min(pred)\n",
        "  pred = (pred-mi)/(ma-mi)\n",
        "\n",
        "  pred = pred.squeeze()\n",
        "\n",
        "  pred = (pred*255).astype(np.uint8)\n",
        "\n",
        "  mask = cv2.resize(pred, image.shape[1::-1], interpolation=cv2.INTER_CUBIC)\n",
        "  return mask"
      ],
      "metadata": {
        "id": "B4j3_xcgyquY"
      },
      "execution_count": 7,
      "outputs": []
    },
    {
      "cell_type": "code",
      "source": [
        "img_dir_or_file = '/content/test_image/6381157366_005.png'\n",
        "\n",
        "def get_output(image,mask):\n",
        "  image = plt.imread(image,0)\n",
        "  image = np.array(tf.image.resize(image,(600,599)))\n",
        "  image/=255.0\n",
        "  return image,image*mask.reshape((600,599,1))\n",
        "\n",
        "def model_u2net(flag):\n",
        "  model = '/content/drive/MyDrive/temp_project/u2net_keras.h5'\n",
        "  model = load_saved_model(model)\n",
        "  \n",
        "  images_name_list = []\n",
        "  if flag==1:\n",
        "    images_name_list.append(img_dir_or_file)\n",
        "  \n",
        "  else:\n",
        "    images_name_list = os.listdir(img_dir_or_file)\n",
        "    images_name_list = list(map(lambda x : os.path.join(img_dir_or_file,x),images_name_list ) )\n",
        "  \n",
        "  processed_images = []\n",
        "\n",
        "  for image_path in images_name_list:\n",
        "    _,processed_image = preprocess_image(image_path)\n",
        "    processed_images.append(processed_image)\n",
        "  \n",
        "  processed_images = np.array(processed_images)\n",
        "  processed_images = processed_images.reshape((len(images_name_list), 3, 320, 320))\n",
        "  d1,d2,d3,d4,d5,d6,d7 = model.predict(processed_images)\n",
        "\n",
        "  masks = []\n",
        "  for idx,pred in enumerate(d1):\n",
        "    pred = pred.reshape((1,1,320,320))\n",
        "    mask = get_mask(pred)\n",
        "    mask = (mask > 0.4).astype(np.int32)\n",
        "    masks.append(mask)\n",
        "  return images_name_list,masks\n",
        "  \n",
        "\n",
        "def model_u2netp(flag):\n",
        "  model = '/content/drive/MyDrive/temp_project/u2netp_keras.h5'\n",
        "  model = load_saved_model(model)\n",
        "  \n",
        "  images_name_list = []\n",
        "  if flag==1:\n",
        "    images_name_list.append(img_dir_or_file)\n",
        "  \n",
        "  else:\n",
        "    images_name_list = os.listdir(img_dir_or_file)\n",
        "    images_name_list = list(map(lambda x : os.path.join(img_dir_or_file,x),images_name_list ) )\n",
        "  \n",
        "  processed_images = []\n",
        "\n",
        "  for image_path in images_name_list:\n",
        "    _,processed_image = preprocess_image(image_path)\n",
        "    processed_images.append(processed_image)\n",
        "  \n",
        "  processed_images = np.array(processed_images)\n",
        "  processed_images = processed_images.reshape((len(images_name_list), 3, 320, 320))\n",
        "  d1,d2,d3,d4,d5,d6,d7 = model.predict(processed_images)\n",
        "\n",
        "  masks = []\n",
        "  for idx,pred in enumerate(d1):\n",
        "    pred = pred.reshape((1,1,320,320))\n",
        "    mask = get_mask(pred)\n",
        "    mask = (mask > 0.4).astype(np.int32)\n",
        "    masks.append(mask)\n",
        "  return images_name_list,masks\n",
        "\n",
        "def model_squeeze_unet(flag):\n",
        "  model = '/content/drive/MyDrive/temp_project/squeeze_unet.h5'\n",
        "  model = load_saved_model(model)\n",
        "\n",
        "  images_name_list = []\n",
        "  if flag==1:\n",
        "    images_name_list.append(img_dir_or_file)\n",
        "  else:\n",
        "    images_name_list.append(os.listdir(img_dir_or_file))\n",
        "  \n",
        "  images = []\n",
        "  \n",
        "\n",
        "def model_unet(flag):\n",
        "  model = '/content/drive/MyDrive/temp_project/unet.h5'\n",
        "  model = load_saved_model(model)\n",
        "\n",
        "  images_name_list = []\n",
        "  if flag==1:\n",
        "    images_name_list.append(img_dir_or_file)\n",
        "  else:\n",
        "    images_name_list.append(os.listdir(img_dir_or_file))\n",
        "  \n",
        "  images = []\n"
      ],
      "metadata": {
        "id": "O4vMKYUeYo7s"
      },
      "execution_count": 116,
      "outputs": []
    },
    {
      "cell_type": "code",
      "source": [
        "image_name_list,mask = model_u2net(1)"
      ],
      "metadata": {
        "id": "MpLds6OglmCI"
      },
      "execution_count": 114,
      "outputs": []
    },
    {
      "cell_type": "code",
      "source": [
        "image,out = get_output(image_name_list[0],mask[0])"
      ],
      "metadata": {
        "id": "lAf5Wx1Gl7Rs"
      },
      "execution_count": 118,
      "outputs": []
    },
    {
      "cell_type": "code",
      "source": [
        "plt.subplot(1,3,1)\n",
        "plt.imshow(image)\n",
        "plt.title('Original Image')\n",
        "plt.subplot(1,3,2)\n",
        "plt.imshow(mask[0].reshape((600,599)))\n",
        "plt.title('Generated Mask')\n",
        "plt.subplot(1,3,3)\n",
        "plt.imshow(out)\n",
        "plt.title('Output')\n",
        "plt.tight_layout()\n",
        "plt.savefig('plot.jpeg',dpi=600)"
      ],
      "metadata": {
        "colab": {
          "base_uri": "https://localhost:8080/",
          "height": 168
        },
        "id": "VUT2m9QToxCB",
        "outputId": "122f213d-624d-4023-9da1-fb762c7fd3c4"
      },
      "execution_count": 138,
      "outputs": [
        {
          "output_type": "display_data",
          "data": {
            "image/png": "[encoded data removed]",
            "text/plain": [
              "<Figure size 432x288 with 3 Axes>"
            ]
          },
          "metadata": {
            "needs_background": "light"
          }
        }
      ]
    },
    {
      "cell_type": "code",
      "source": [
        "image_name_list_p,mask_p = model_u2netp(1)\n",
        "image_p,out_p = get_output(image_name_list[0],mask[0])"
      ],
      "metadata": {
        "id": "BGiRLSMIC6u2"
      },
      "execution_count": 125,
      "outputs": []
    },
    {
      "cell_type": "code",
      "source": [
        "final = and_ensemble_fnc([mask[0],mask_p[0]])"
      ],
      "metadata": {
        "id": "O7b0RC4yqK-N"
      },
      "execution_count": 131,
      "outputs": []
    },
    {
      "cell_type": "code",
      "source": [
        "final_image,final_out = get_output(image_name_list[0],final)"
      ],
      "metadata": {
        "id": "WTluqHFhqbzH"
      },
      "execution_count": 132,
      "outputs": []
    },
    {
      "cell_type": "code",
      "source": [
        "plt.subplot(1,3,1)\n",
        "plt.imshow(final_image)\n",
        "plt.title('Original Image')\n",
        "plt.subplot(1,3,2)\n",
        "plt.imshow(final_out)\n",
        "plt.title('Ensembled Output')\n",
        "plt.tight_layout()\n",
        "plt.savefig('plot.jpeg',dpi=600)"
      ],
      "metadata": {
        "colab": {
          "base_uri": "https://localhost:8080/",
          "height": 168
        },
        "id": "N0TDjlVVqx5s",
        "outputId": "bcde61f0-44d8-4fcc-9a81-2a75aaff01de"
      },
      "execution_count": 137,
      "outputs": [
        {
          "output_type": "display_data",
          "data": {
            "image/png": "[encoded data removed]",
            "text/plain": [
              "<Figure size 432x288 with 2 Axes>"
            ]
          },
          "metadata": {
            "needs_background": "light"
          }
        }
      ]
    },
    {
      "cell_type": "code",
      "source": [
        ""
      ],
      "metadata": {
        "id": "mhhJBK_Uq7bQ"
      },
      "execution_count": null,
      "outputs": []
    }
  ]
}